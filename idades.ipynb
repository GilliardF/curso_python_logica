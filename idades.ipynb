{
 "cells": [
  {
   "cell_type": "code",
   "execution_count": 5,
   "id": "2ca3ae33",
   "metadata": {},
   "outputs": [
    {
     "name": "stdout",
     "output_type": "stream",
     "text": [
      "Dados da primeira pessoa:\n",
      "Nome: Maria\n",
      "Idade: 19\n",
      "Dados da segunda pessoa:\n",
      "Nome: Joao\n",
      "Idade: 20\n",
      "A idade média de Maria e Joao é de 19.5 anos\n"
     ]
    }
   ],
   "source": [
    "print('Dados da primeira pessoa:')\n",
    "nome1 = input('Nome: ')\n",
    "idade1 = float(input('Idade: '))\n",
    "\n",
    "print('Dados da segunda pessoa:')\n",
    "nome2 = input('Nome: ')\n",
    "idade2 = float(input('Idade: '))\n",
    "\n",
    "media = (idade1 + idade2) / 2\n",
    "\n",
    "print(f'A idade média de {nome1} e {nome2} é de {media:.1f} anos')\n"
   ]
  },
  {
   "cell_type": "code",
   "execution_count": null,
   "id": "77ca19f2",
   "metadata": {},
   "outputs": [],
   "source": []
  }
 ],
 "metadata": {
  "kernelspec": {
   "display_name": "Python 3 (ipykernel)",
   "language": "python",
   "name": "python3"
  },
  "language_info": {
   "codemirror_mode": {
    "name": "ipython",
    "version": 3
   },
   "file_extension": ".py",
   "mimetype": "text/x-python",
   "name": "python",
   "nbconvert_exporter": "python",
   "pygments_lexer": "ipython3",
   "version": "3.9.12"
  }
 },
 "nbformat": 4,
 "nbformat_minor": 5
}
