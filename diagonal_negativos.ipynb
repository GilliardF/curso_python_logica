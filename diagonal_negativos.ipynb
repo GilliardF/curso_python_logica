{
 "cells": [
  {
   "cell_type": "code",
   "execution_count": 46,
   "id": "7fb4bf37",
   "metadata": {
    "scrolled": true
   },
   "outputs": [
    {
     "name": "stdout",
     "output_type": "stream",
     "text": [
      "Qual a ordem da matriz? 3\n"
     ]
    }
   ],
   "source": [
    "n = int(input('Qual a ordem da matriz? '))"
   ]
  },
  {
   "cell_type": "code",
   "execution_count": 47,
   "id": "5f04391a",
   "metadata": {
    "scrolled": true
   },
   "outputs": [],
   "source": [
    "mat: [[int]] = [[0 for x in range(n)] for x in range(n)]"
   ]
  },
  {
   "cell_type": "code",
   "execution_count": 48,
   "id": "8cea1818",
   "metadata": {
    "scrolled": true
   },
   "outputs": [
    {
     "name": "stdout",
     "output_type": "stream",
     "text": [
      "Elemento [0,0]:5\n",
      "Elemento [0,1]:-3\n",
      "Elemento [0,2]:10\n",
      "Elemento [1,0]:15\n",
      "Elemento [1,1]:8\n",
      "Elemento [1,2]:2\n",
      "Elemento [2,0]:7\n",
      "Elemento [2,1]:9\n",
      "Elemento [2,2]:-4\n"
     ]
    }
   ],
   "source": [
    "for i in range(0, n):\n",
    "    for j in range(0, n):\n",
    "        mat[i][j] = int(input(f'Elemento [{i},{j}]:'))"
   ]
  },
  {
   "cell_type": "code",
   "execution_count": 49,
   "id": "21e6e46e",
   "metadata": {
    "scrolled": true
   },
   "outputs": [
    {
     "name": "stdout",
     "output_type": "stream",
     "text": [
      "DIAGONAL PRINCIPAL:\n",
      "5  8  -4  \n"
     ]
    }
   ],
   "source": [
    "print('DIAGONAL PRINCIPAL:')\n",
    "for i in range(0, n):\n",
    "    print(f'{mat[i][i]}', end = '  ')\n",
    "print()"
   ]
  },
  {
   "cell_type": "code",
   "execution_count": 51,
   "id": "7495742b",
   "metadata": {},
   "outputs": [
    {
     "name": "stdout",
     "output_type": "stream",
     "text": [
      "QUANTIDADE DE NEGATIVOS = 2\n"
     ]
    }
   ],
   "source": [
    "soma_impares = 0\n",
    "for i in range(0, n):\n",
    "    for j in range(0, n):\n",
    "        if mat[i][j] < 0:\n",
    "            soma_impares = soma_impares + 1\n",
    "\n",
    "print(f'QUANTIDADE DE NEGATIVOS = {soma_impares}')"
   ]
  },
  {
   "cell_type": "code",
   "execution_count": null,
   "id": "9ee2b0e4",
   "metadata": {},
   "outputs": [],
   "source": []
  }
 ],
 "metadata": {
  "kernelspec": {
   "display_name": "Python 3 (ipykernel)",
   "language": "python",
   "name": "python3"
  },
  "language_info": {
   "codemirror_mode": {
    "name": "ipython",
    "version": 3
   },
   "file_extension": ".py",
   "mimetype": "text/x-python",
   "name": "python",
   "nbconvert_exporter": "python",
   "pygments_lexer": "ipython3",
   "version": "3.9.12"
  }
 },
 "nbformat": 4,
 "nbformat_minor": 5
}
