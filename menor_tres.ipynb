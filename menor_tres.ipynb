{
 "cells": [
  {
   "cell_type": "code",
   "execution_count": 15,
   "id": "32ffb6d0",
   "metadata": {
    "scrolled": true
   },
   "outputs": [
    {
     "name": "stdout",
     "output_type": "stream",
     "text": [
      "Primeiro valor: 7\n",
      "Segundo valor: 5\n",
      "Terceiro valor: 4\n",
      "MENOR = 4\n"
     ]
    }
   ],
   "source": [
    "p_valor = int(input('Primeiro valor: '))\n",
    "s_valor = int(input('Segundo valor: '))\n",
    "t_valor = int(input('Terceiro valor: '))\n",
    "\n",
    "if p_valor < s_valor and p_valor < t_valor:\n",
    "    print(f'MENOR = {p_valor}')\n",
    "\n",
    "elif s_valor < t_valor:\n",
    "    print(f'MENOR = {s_valor}')\n",
    "\n",
    "else:\n",
    "    print(f'MENOR = {t_valor}')\n",
    "    "
   ]
  }
 ],
 "metadata": {
  "kernelspec": {
   "display_name": "Python 3 (ipykernel)",
   "language": "python",
   "name": "python3"
  },
  "language_info": {
   "codemirror_mode": {
    "name": "ipython",
    "version": 3
   },
   "file_extension": ".py",
   "mimetype": "text/x-python",
   "name": "python",
   "nbconvert_exporter": "python",
   "pygments_lexer": "ipython3",
   "version": "3.9.12"
  }
 },
 "nbformat": 4,
 "nbformat_minor": 5
}
