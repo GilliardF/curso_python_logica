{
 "cells": [
  {
   "cell_type": "code",
   "execution_count": 7,
   "id": "f7bfe155",
   "metadata": {},
   "outputs": [
    {
     "name": "stdout",
     "output_type": "stream",
     "text": [
      "Base do retangulo: 4\n",
      "Altura do retangulo: 5\n",
      "AREA = 20.0000\n",
      "PERIMETRO = 18.0000\n",
      "DIAGONAL = 6.4031\n"
     ]
    }
   ],
   "source": [
    "import math\n",
    "base = float(input('Base do retangulo: '))\n",
    "altura = float(input('Altura do retangulo: '))\n",
    "\n",
    "area = base * altura\n",
    "perimetro = 2 * base + 2 * altura\n",
    "diagonal = math.sqrt(base ** 2 + altura ** 2)\n",
    "\n",
    "print(f'AREA = {area:.4f}')\n",
    "print(f'PERIMETRO = {perimetro:.4f}')\n",
    "print(f'DIAGONAL = {diagonal:.4f}')"
   ]
  },
  {
   "cell_type": "code",
   "execution_count": null,
   "id": "c92005d6",
   "metadata": {},
   "outputs": [],
   "source": []
  }
 ],
 "metadata": {
  "kernelspec": {
   "display_name": "Python 3 (ipykernel)",
   "language": "python",
   "name": "python3"
  },
  "language_info": {
   "codemirror_mode": {
    "name": "ipython",
    "version": 3
   },
   "file_extension": ".py",
   "mimetype": "text/x-python",
   "name": "python",
   "nbconvert_exporter": "python",
   "pygments_lexer": "ipython3",
   "version": "3.9.12"
  }
 },
 "nbformat": 4,
 "nbformat_minor": 5
}
