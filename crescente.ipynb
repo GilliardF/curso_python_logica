{
 "cells": [
  {
   "cell_type": "code",
   "execution_count": 27,
   "id": "d55e161a",
   "metadata": {
    "scrolled": false
   },
   "outputs": [
    {
     "name": "stdout",
     "output_type": "stream",
     "text": [
      "Digite dois numeros: \n",
      "5\n",
      "6\n"
     ]
    }
   ],
   "source": [
    "print('Digite dois numeros: ')\n",
    "n1 = input()\n",
    "n2 = input()\n",
    "\n"
   ]
  },
  {
   "cell_type": "code",
   "execution_count": 28,
   "id": "481f2dce",
   "metadata": {},
   "outputs": [
    {
     "name": "stdout",
     "output_type": "stream",
     "text": [
      "CRESCENTE!\n",
      "3\n",
      "4\n",
      "CRESCENTE!\n",
      "5\n",
      "6\n",
      "CRESCENTE!\n",
      "2\n",
      "1\n",
      "DECRESCENTE!\n",
      "0\n",
      "0\n"
     ]
    }
   ],
   "source": [
    "while n1 != n2:\n",
    "    if n1 > n2:\n",
    "        print('DECRESCENTE!')\n",
    "    \n",
    "    else:\n",
    "        print('CRESCENTE!')\n",
    "        \n",
    "    n1 = input()\n",
    "    n2 = input()\n"
   ]
  }
 ],
 "metadata": {
  "kernelspec": {
   "display_name": "Python 3 (ipykernel)",
   "language": "python",
   "name": "python3"
  },
  "language_info": {
   "codemirror_mode": {
    "name": "ipython",
    "version": 3
   },
   "file_extension": ".py",
   "mimetype": "text/x-python",
   "name": "python",
   "nbconvert_exporter": "python",
   "pygments_lexer": "ipython3",
   "version": "3.9.12"
  }
 },
 "nbformat": 4,
 "nbformat_minor": 5
}
