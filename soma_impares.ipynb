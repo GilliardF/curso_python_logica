{
 "cells": [
  {
   "cell_type": "code",
   "execution_count": 36,
   "id": "7eafdd94",
   "metadata": {
    "scrolled": true
   },
   "outputs": [
    {
     "name": "stdout",
     "output_type": "stream",
     "text": [
      "Digite dois numeros: \n",
      "6\n",
      "-5\n"
     ]
    }
   ],
   "source": [
    "print('Digite dois numeros: ')\n",
    "x = int(input(''))\n",
    "y = int(input(''))\n",
    "\n",
    "if x > y:\n",
    "    troca = x\n",
    "    x = y\n",
    "    y = troca\n",
    "\n"
   ]
  },
  {
   "cell_type": "code",
   "execution_count": 37,
   "id": "69c932df",
   "metadata": {},
   "outputs": [],
   "source": [
    "soma = int(0)"
   ]
  },
  {
   "cell_type": "code",
   "execution_count": 38,
   "id": "009db233",
   "metadata": {},
   "outputs": [],
   "source": [
    "for i in range(x+1, y):\n",
    "    if i % 2 != 0:\n",
    "        soma = soma + i\n"
   ]
  },
  {
   "cell_type": "code",
   "execution_count": 39,
   "id": "d43e27a2",
   "metadata": {},
   "outputs": [
    {
     "name": "stdout",
     "output_type": "stream",
     "text": [
      "SOMA DOS IMPARES = 5\n"
     ]
    }
   ],
   "source": [
    "print(f'SOMA DOS IMPARES = {soma}')"
   ]
  }
 ],
 "metadata": {
  "kernelspec": {
   "display_name": "Python 3 (ipykernel)",
   "language": "python",
   "name": "python3"
  },
  "language_info": {
   "codemirror_mode": {
    "name": "ipython",
    "version": 3
   },
   "file_extension": ".py",
   "mimetype": "text/x-python",
   "name": "python",
   "nbconvert_exporter": "python",
   "pygments_lexer": "ipython3",
   "version": "3.9.12"
  }
 },
 "nbformat": 4,
 "nbformat_minor": 5
}
