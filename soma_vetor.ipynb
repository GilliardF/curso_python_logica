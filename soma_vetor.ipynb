{
 "cells": [
  {
   "cell_type": "code",
   "execution_count": 6,
   "id": "c7266a6d",
   "metadata": {},
   "outputs": [
    {
     "name": "stdout",
     "output_type": "stream",
     "text": [
      "Quantos numeros voce vai digitar? 4\n"
     ]
    }
   ],
   "source": [
    "n = int(input('Quantos numeros voce vai digitar? '))\n"
   ]
  },
  {
   "cell_type": "code",
   "execution_count": 7,
   "id": "1b429ab7",
   "metadata": {},
   "outputs": [],
   "source": [
    "vet : [float] = [0 for x in range(0, n)]\n",
    "    "
   ]
  },
  {
   "cell_type": "code",
   "execution_count": 12,
   "id": "5d1bab02",
   "metadata": {},
   "outputs": [
    {
     "name": "stdout",
     "output_type": "stream",
     "text": [
      "Digite um numero: 8\n",
      "Digite um numero: 4\n",
      "Digite um numero: 10\n",
      "Digite um numero: 14\n"
     ]
    }
   ],
   "source": [
    "for i in range(0, n):\n",
    "    vet[i] = float(input('Digite um numero: '))"
   ]
  },
  {
   "cell_type": "code",
   "execution_count": 21,
   "id": "2b819120",
   "metadata": {},
   "outputs": [
    {
     "name": "stdout",
     "output_type": "stream",
     "text": [
      "VALORES = 8.0  4.0  10.0  14.0  "
     ]
    }
   ],
   "source": [
    "print('VALORES = ', end='')\n",
    "for i in range(0, n):\n",
    "    print(vet[i], end='  ')"
   ]
  },
  {
   "cell_type": "code",
   "execution_count": 22,
   "id": "0cc85f01",
   "metadata": {},
   "outputs": [
    {
     "name": "stdout",
     "output_type": "stream",
     "text": [
      "SOMA = 36.0\n"
     ]
    }
   ],
   "source": [
    "soma = 0\n",
    "for i in range(0, n):\n",
    "    soma = soma + vet[i]\n",
    "print(f'SOMA = {soma:.1f}')"
   ]
  },
  {
   "cell_type": "code",
   "execution_count": 23,
   "id": "67d40668",
   "metadata": {},
   "outputs": [
    {
     "name": "stdout",
     "output_type": "stream",
     "text": [
      "MEDIA = 9.0\n"
     ]
    }
   ],
   "source": [
    "media = soma / n\n",
    "print(f'MEDIA = {media}')"
   ]
  }
 ],
 "metadata": {
  "kernelspec": {
   "display_name": "Python 3 (ipykernel)",
   "language": "python",
   "name": "python3"
  },
  "language_info": {
   "codemirror_mode": {
    "name": "ipython",
    "version": 3
   },
   "file_extension": ".py",
   "mimetype": "text/x-python",
   "name": "python",
   "nbconvert_exporter": "python",
   "pygments_lexer": "ipython3",
   "version": "3.9.12"
  }
 },
 "nbformat": 4,
 "nbformat_minor": 5
}
